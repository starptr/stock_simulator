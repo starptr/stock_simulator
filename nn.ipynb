{
 "cells": [
  {
   "cell_type": "code",
   "execution_count": 38,
   "metadata": {},
   "outputs": [],
   "source": [
    "from simulator import Simulator, get_doge_data\n",
    "from sklearn.neighbors import KNeighborsClassifier\n",
    "import numpy as np"
   ]
  },
  {
   "cell_type": "code",
   "execution_count": 40,
   "metadata": {},
   "outputs": [],
   "source": [
    "def generate_X_Y(data):\n",
    "\tX = np.empty((0,30))\n",
    "\tY = []\n",
    "\tfor i in range(30, len(data) - 1):\n",
    "\t\tx = np.array(data[i-30:i])\n",
    "\t\ty_raw = data[i]\n",
    "\t\t# get classification\n",
    "\t\ty = -1 if x[-1] > y_raw else 1\n",
    "\t\t# normalize to last elem of input\n",
    "\t\tx /= x[-1]\n",
    "\t\t# append row\n",
    "\t\tX = np.vstack((X, x))\n",
    "\t\tY.append(y)\n",
    "\treturn X, Y"
   ]
  },
  {
   "cell_type": "code",
   "execution_count": 41,
   "metadata": {},
   "outputs": [],
   "source": [
    "# Format training data\n",
    "data = get_doge_data()\n",
    "\n",
    "SPLIT = 0.8\n",
    "SPLIT_IDX = int(0.8*len(data))\n",
    "training_data = data[:SPLIT_IDX]\n",
    "test_data = data[SPLIT_IDX:]\n",
    "\n",
    "# Create training data\n",
    "# all samples\n",
    "X, Y = generate_X_Y(training_data)"
   ]
  },
  {
   "cell_type": "code",
   "execution_count": 42,
   "metadata": {},
   "outputs": [],
   "source": [
    "# Number of clusters to try\n",
    "n_values = [3,5,10,15,20,30,40,50]\n",
    "models = map(lambda n: KNeighborsClassifier(n_neighbors=n), n_values)\n",
    "\n",
    "# train models\n",
    "for model in models:\n",
    "\tmodel.fit(X,Y)"
   ]
  },
  {
   "cell_type": "code",
   "execution_count": null,
   "metadata": {},
   "outputs": [],
   "source": [
    "# Format testing data"
   ]
  }
 ],
 "metadata": {
  "interpreter": {
   "hash": "c29bd582509a7439b87b80a2e48312a0f744d634b8ec3398e80991cb20d6638d"
  },
  "kernelspec": {
   "display_name": "Python 3.9.9 64-bit ('.venv': venv)",
   "language": "python",
   "name": "python3"
  },
  "language_info": {
   "codemirror_mode": {
    "name": "ipython",
    "version": 3
   },
   "file_extension": ".py",
   "mimetype": "text/x-python",
   "name": "python",
   "nbconvert_exporter": "python",
   "pygments_lexer": "ipython3",
   "version": "3.9.9"
  },
  "orig_nbformat": 4
 },
 "nbformat": 4,
 "nbformat_minor": 2
}
